{
 "cells": [
  {
   "cell_type": "markdown",
   "id": "c24527ec",
   "metadata": {},
   "source": [
    "# Netflix Prize Movie Recommendation Project"
   ]
  },
  {
   "cell_type": "markdown",
   "id": "b4dc42bf",
   "metadata": {},
   "source": [
    "100M ratings released to the public\n",
    "17770 movies and 480,000 users\n",
    "4 datasets"
   ]
  },
  {
   "cell_type": "code",
   "execution_count": 1,
   "id": "dc103d4e",
   "metadata": {},
   "outputs": [],
   "source": [
    "import numpy as np\n",
    "import pandas as pd\n",
    "import matplotlib.pyplot as plt"
   ]
  },
  {
   "cell_type": "code",
   "execution_count": 2,
   "id": "df68bbc0",
   "metadata": {},
   "outputs": [],
   "source": [
    "dataset = pd.read_csv('combined_data_1.txt',header = None, names=['Cust_id','Rating'],usecols=[0,1])\n",
    "\n",
    "# header = None, so that the 1st row is not treated as column names or header\n",
    "# names = names we want to use for columns\n",
    "# usecols = [0,1] because we only want to use the first 2 columns. 3rd column is dates that we don't need.\n",
    "# So only column 1 and 2 are imported."
   ]
  },
  {
   "cell_type": "code",
   "execution_count": 3,
   "id": "4cae605b",
   "metadata": {},
   "outputs": [
    {
     "data": {
      "text/html": [
       "<div>\n",
       "<style scoped>\n",
       "    .dataframe tbody tr th:only-of-type {\n",
       "        vertical-align: middle;\n",
       "    }\n",
       "\n",
       "    .dataframe tbody tr th {\n",
       "        vertical-align: top;\n",
       "    }\n",
       "\n",
       "    .dataframe thead th {\n",
       "        text-align: right;\n",
       "    }\n",
       "</style>\n",
       "<table border=\"1\" class=\"dataframe\">\n",
       "  <thead>\n",
       "    <tr style=\"text-align: right;\">\n",
       "      <th></th>\n",
       "      <th>Cust_id</th>\n",
       "      <th>Rating</th>\n",
       "    </tr>\n",
       "  </thead>\n",
       "  <tbody>\n",
       "    <tr>\n",
       "      <th>0</th>\n",
       "      <td>1:</td>\n",
       "      <td>NaN</td>\n",
       "    </tr>\n",
       "    <tr>\n",
       "      <th>1</th>\n",
       "      <td>1488844</td>\n",
       "      <td>3.0</td>\n",
       "    </tr>\n",
       "    <tr>\n",
       "      <th>2</th>\n",
       "      <td>822109</td>\n",
       "      <td>5.0</td>\n",
       "    </tr>\n",
       "    <tr>\n",
       "      <th>3</th>\n",
       "      <td>885013</td>\n",
       "      <td>4.0</td>\n",
       "    </tr>\n",
       "    <tr>\n",
       "      <th>4</th>\n",
       "      <td>30878</td>\n",
       "      <td>4.0</td>\n",
       "    </tr>\n",
       "  </tbody>\n",
       "</table>\n",
       "</div>"
      ],
      "text/plain": [
       "   Cust_id  Rating\n",
       "0       1:     NaN\n",
       "1  1488844     3.0\n",
       "2   822109     5.0\n",
       "3   885013     4.0\n",
       "4    30878     4.0"
      ]
     },
     "execution_count": 3,
     "metadata": {},
     "output_type": "execute_result"
    }
   ],
   "source": [
    "dataset.head()"
   ]
  },
  {
   "cell_type": "code",
   "execution_count": 4,
   "id": "5ffeeef5",
   "metadata": {},
   "outputs": [
    {
     "data": {
      "text/plain": [
       "Cust_id     object\n",
       "Rating     float64\n",
       "dtype: object"
      ]
     },
     "execution_count": 4,
     "metadata": {},
     "output_type": "execute_result"
    }
   ],
   "source": [
    "dataset.dtypes"
   ]
  },
  {
   "cell_type": "code",
   "execution_count": 5,
   "id": "d696b71a",
   "metadata": {},
   "outputs": [],
   "source": [
    "#dataset['Rating'] = dataset['Rating'].astype(float)\n",
    "# Use this command if the ratings are not float 64 already"
   ]
  },
  {
   "cell_type": "code",
   "execution_count": 6,
   "id": "471d7a7e",
   "metadata": {},
   "outputs": [
    {
     "data": {
      "text/plain": [
       "(24058263, 2)"
      ]
     },
     "execution_count": 6,
     "metadata": {},
     "output_type": "execute_result"
    }
   ],
   "source": [
    "dataset.shape"
   ]
  },
  {
   "cell_type": "code",
   "execution_count": 7,
   "id": "133629fd",
   "metadata": {},
   "outputs": [
    {
     "data": {
      "text/html": [
       "<div>\n",
       "<style scoped>\n",
       "    .dataframe tbody tr th:only-of-type {\n",
       "        vertical-align: middle;\n",
       "    }\n",
       "\n",
       "    .dataframe tbody tr th {\n",
       "        vertical-align: top;\n",
       "    }\n",
       "\n",
       "    .dataframe thead th {\n",
       "        text-align: right;\n",
       "    }\n",
       "</style>\n",
       "<table border=\"1\" class=\"dataframe\">\n",
       "  <thead>\n",
       "    <tr style=\"text-align: right;\">\n",
       "      <th></th>\n",
       "      <th>count</th>\n",
       "    </tr>\n",
       "    <tr>\n",
       "      <th>Rating</th>\n",
       "      <th></th>\n",
       "    </tr>\n",
       "  </thead>\n",
       "  <tbody>\n",
       "    <tr>\n",
       "      <th>1.0</th>\n",
       "      <td>1118186</td>\n",
       "    </tr>\n",
       "    <tr>\n",
       "      <th>2.0</th>\n",
       "      <td>2439073</td>\n",
       "    </tr>\n",
       "    <tr>\n",
       "      <th>3.0</th>\n",
       "      <td>6904181</td>\n",
       "    </tr>\n",
       "    <tr>\n",
       "      <th>4.0</th>\n",
       "      <td>8085741</td>\n",
       "    </tr>\n",
       "    <tr>\n",
       "      <th>5.0</th>\n",
       "      <td>5506583</td>\n",
       "    </tr>\n",
       "  </tbody>\n",
       "</table>\n",
       "</div>"
      ],
      "text/plain": [
       "          count\n",
       "Rating         \n",
       "1.0     1118186\n",
       "2.0     2439073\n",
       "3.0     6904181\n",
       "4.0     8085741\n",
       "5.0     5506583"
      ]
     },
     "execution_count": 7,
     "metadata": {},
     "output_type": "execute_result"
    }
   ],
   "source": [
    "# For ratings 1 to 5, how many users have given that particular rating\n",
    "# So, we are using groupby Ratings\n",
    "\n",
    "p = dataset.groupby('Rating')['Rating'].agg(['count'])\n",
    "p"
   ]
  },
  {
   "cell_type": "code",
   "execution_count": 8,
   "id": "00368aa3",
   "metadata": {},
   "outputs": [
    {
     "data": {
      "text/plain": [
       "4499"
      ]
     },
     "execution_count": 8,
     "metadata": {},
     "output_type": "execute_result"
    }
   ],
   "source": [
    "# Rating column for a movie number is Nan. Only the customer ids have corresponding ratings.\n",
    "# So, whatever rows contain Nan, have the movie number.\n",
    "# Ex, row 1 has values 1 and Nan. Then, row 549 has values 2 and Nan and so on.\n",
    "# We can calculate total number of movies using this relation.\n",
    "# Total number of NaN values = Total number of movies in our dataset.\n",
    "\n",
    "movie_count = dataset.isnull().sum()[1]\n",
    "movie_count\n",
    "\n",
    "# We are using index as 1 because there are no NaN valus in Cust_id and we are not interested in that column.\n",
    "# We only want the total Nan count for ratings column."
   ]
  },
  {
   "cell_type": "code",
   "execution_count": 9,
   "id": "44382fdf",
   "metadata": {},
   "outputs": [
    {
     "data": {
      "text/plain": [
       "470758"
      ]
     },
     "execution_count": 9,
     "metadata": {},
     "output_type": "execute_result"
    }
   ],
   "source": [
    "# Get customer count\n",
    "cust_count = dataset['Cust_id'].nunique() - movie_count\n",
    "cust_count"
   ]
  },
  {
   "cell_type": "code",
   "execution_count": 10,
   "id": "d7e490bb",
   "metadata": {},
   "outputs": [
    {
     "data": {
      "text/plain": [
       "24053764"
      ]
     },
     "execution_count": 10,
     "metadata": {},
     "output_type": "execute_result"
    }
   ],
   "source": [
    "# Get rating count\n",
    "\n",
    "rating_count = dataset['Cust_id'].count() - movie_count\n",
    "\n",
    "rating_count"
   ]
  },
  {
   "cell_type": "code",
   "execution_count": 11,
   "id": "862ca7e6",
   "metadata": {},
   "outputs": [
    {
     "data": {
      "image/png": "[encoded data removed]",
      "text/plain": [
       "<Figure size 1080x720 with 1 Axes>"
      ]
     },
     "metadata": {
      "needs_background": "light"
     },
     "output_type": "display_data"
    }
   ],
   "source": [
    "ax = p.plot(kind='barh', legend = False, figsize=(15,10))\n",
    "plt.title(f'Total pool: {movie_count} Movies, {cust_count} customers, {rating_count} ratings given', fontsize = 20)\n",
    "\n",
    "for i in range(1,6):\n",
    "    ax.text(p.iloc[i-1][0]/4, i-1, f'Rating {i}: {round(p.iloc[i-1][0]*100/p.sum()[0],0)}%', color ='white', weight ='bold')"
   ]
  },
  {
   "cell_type": "code",
   "execution_count": 12,
   "id": "622cd3e0",
   "metadata": {},
   "outputs": [
    {
     "data": {
      "text/html": [
       "<div>\n",
       "<style scoped>\n",
       "    .dataframe tbody tr th:only-of-type {\n",
       "        vertical-align: middle;\n",
       "    }\n",
       "\n",
       "    .dataframe tbody tr th {\n",
       "        vertical-align: top;\n",
       "    }\n",
       "\n",
       "    .dataframe thead th {\n",
       "        text-align: right;\n",
       "    }\n",
       "</style>\n",
       "<table border=\"1\" class=\"dataframe\">\n",
       "  <thead>\n",
       "    <tr style=\"text-align: right;\">\n",
       "      <th></th>\n",
       "      <th>Rating</th>\n",
       "    </tr>\n",
       "  </thead>\n",
       "  <tbody>\n",
       "    <tr>\n",
       "      <th>0</th>\n",
       "      <td>True</td>\n",
       "    </tr>\n",
       "    <tr>\n",
       "      <th>1</th>\n",
       "      <td>False</td>\n",
       "    </tr>\n",
       "    <tr>\n",
       "      <th>2</th>\n",
       "      <td>False</td>\n",
       "    </tr>\n",
       "    <tr>\n",
       "      <th>3</th>\n",
       "      <td>False</td>\n",
       "    </tr>\n",
       "    <tr>\n",
       "      <th>4</th>\n",
       "      <td>False</td>\n",
       "    </tr>\n",
       "  </tbody>\n",
       "</table>\n",
       "</div>"
      ],
      "text/plain": [
       "   Rating\n",
       "0    True\n",
       "1   False\n",
       "2   False\n",
       "3   False\n",
       "4   False"
      ]
     },
     "execution_count": 12,
     "metadata": {},
     "output_type": "execute_result"
    }
   ],
   "source": [
    "# Add movie id in front of the cust_id and ratings so that we know for what movie the rating is.\n",
    "\n",
    "df_nan = pd.DataFrame(pd.isnull(dataset.Rating),)\n",
    "df_nan.head()"
   ]
  },
  {
   "cell_type": "code",
   "execution_count": 13,
   "id": "e040e818",
   "metadata": {},
   "outputs": [
    {
     "data": {
      "text/plain": [
       "(24058263, 1)"
      ]
     },
     "execution_count": 13,
     "metadata": {},
     "output_type": "execute_result"
    }
   ],
   "source": [
    "df_nan.shape"
   ]
  },
  {
   "cell_type": "code",
   "execution_count": 14,
   "id": "d2467f29",
   "metadata": {},
   "outputs": [
    {
     "data": {
      "text/html": [
       "<div>\n",
       "<style scoped>\n",
       "    .dataframe tbody tr th:only-of-type {\n",
       "        vertical-align: middle;\n",
       "    }\n",
       "\n",
       "    .dataframe tbody tr th {\n",
       "        vertical-align: top;\n",
       "    }\n",
       "\n",
       "    .dataframe thead th {\n",
       "        text-align: right;\n",
       "    }\n",
       "</style>\n",
       "<table border=\"1\" class=\"dataframe\">\n",
       "  <thead>\n",
       "    <tr style=\"text-align: right;\">\n",
       "      <th></th>\n",
       "      <th>Rating</th>\n",
       "    </tr>\n",
       "  </thead>\n",
       "  <tbody>\n",
       "    <tr>\n",
       "      <th>0</th>\n",
       "      <td>True</td>\n",
       "    </tr>\n",
       "    <tr>\n",
       "      <th>548</th>\n",
       "      <td>True</td>\n",
       "    </tr>\n",
       "    <tr>\n",
       "      <th>694</th>\n",
       "      <td>True</td>\n",
       "    </tr>\n",
       "    <tr>\n",
       "      <th>2707</th>\n",
       "      <td>True</td>\n",
       "    </tr>\n",
       "    <tr>\n",
       "      <th>2850</th>\n",
       "      <td>True</td>\n",
       "    </tr>\n",
       "  </tbody>\n",
       "</table>\n",
       "</div>"
      ],
      "text/plain": [
       "      Rating\n",
       "0       True\n",
       "548     True\n",
       "694     True\n",
       "2707    True\n",
       "2850    True"
      ]
     },
     "execution_count": 14,
     "metadata": {},
     "output_type": "execute_result"
    }
   ],
   "source": [
    "# Select only those indexes where Nan rating is true.\n",
    "# That means, we are reducing the size of df_nan by working with only those rows which are actually movies.\n",
    "df_nan = df_nan[df_nan['Rating']==True]\n",
    "\n",
    "df_nan.shape\n",
    "\n",
    "df_nan.head()"
   ]
  },
  {
   "cell_type": "code",
   "execution_count": 15,
   "id": "ae3dce79",
   "metadata": {},
   "outputs": [
    {
     "data": {
      "text/html": [
       "<div>\n",
       "<style scoped>\n",
       "    .dataframe tbody tr th:only-of-type {\n",
       "        vertical-align: middle;\n",
       "    }\n",
       "\n",
       "    .dataframe tbody tr th {\n",
       "        vertical-align: top;\n",
       "    }\n",
       "\n",
       "    .dataframe thead th {\n",
       "        text-align: right;\n",
       "    }\n",
       "</style>\n",
       "<table border=\"1\" class=\"dataframe\">\n",
       "  <thead>\n",
       "    <tr style=\"text-align: right;\">\n",
       "      <th></th>\n",
       "      <th>index</th>\n",
       "      <th>Rating</th>\n",
       "    </tr>\n",
       "  </thead>\n",
       "  <tbody>\n",
       "    <tr>\n",
       "      <th>0</th>\n",
       "      <td>0</td>\n",
       "      <td>True</td>\n",
       "    </tr>\n",
       "    <tr>\n",
       "      <th>1</th>\n",
       "      <td>548</td>\n",
       "      <td>True</td>\n",
       "    </tr>\n",
       "    <tr>\n",
       "      <th>2</th>\n",
       "      <td>694</td>\n",
       "      <td>True</td>\n",
       "    </tr>\n",
       "    <tr>\n",
       "      <th>3</th>\n",
       "      <td>2707</td>\n",
       "      <td>True</td>\n",
       "    </tr>\n",
       "    <tr>\n",
       "      <th>4</th>\n",
       "      <td>2850</td>\n",
       "      <td>True</td>\n",
       "    </tr>\n",
       "  </tbody>\n",
       "</table>\n",
       "</div>"
      ],
      "text/plain": [
       "   index  Rating\n",
       "0      0    True\n",
       "1    548    True\n",
       "2    694    True\n",
       "3   2707    True\n",
       "4   2850    True"
      ]
     },
     "execution_count": 15,
     "metadata": {},
     "output_type": "execute_result"
    }
   ],
   "source": [
    "# We dont want the indexes for movies treated as indexes for df_nan.\n",
    "# So, we reset the index of df_nan. Movie indexes becomes a new column and df_nan gets new row numbers as indexes.\n",
    "df_nan = df_nan.reset_index()\n",
    "\n",
    "df_nan.head()"
   ]
  },
  {
   "cell_type": "code",
   "execution_count": 16,
   "id": "acb05159",
   "metadata": {},
   "outputs": [
    {
     "name": "stdout",
     "output_type": "stream",
     "text": [
      "Movie numpy: [1.000e+00 1.000e+00 1.000e+00 ... 4.499e+03 4.499e+03 4.499e+03]\n",
      "Length: 24053764\n"
     ]
    }
   ],
   "source": [
    "movie_np =[]\n",
    "movie_id = 1\n",
    "\n",
    "# The zip function pairs the first elements of each iterator together, then pairs the second elements together and so on.\n",
    "# If the iterables in the zip function are not the same length, then the smallest length iterable decides the length of the generated output.\n",
    "\n",
    "for i, j in zip(df_nan['index'][1:],df_nan['index'][0:]):\n",
    "    #numpy approach\n",
    "    # numpy.full(shape, fill_value, dtype=None, order='C', *, like=None)\n",
    "    # Returns a new array of given shape and type, filled with fill_value.\n",
    "    temp = np.full((1,i-j-1),movie_id)\n",
    "    movie_np =np.append(movie_np,temp)\n",
    "    movie_id += 1\n",
    "    \n",
    "# Account for last record and corresponding length\n",
    "# numpy approach\n",
    "\n",
    "# Shape of the last record is one column with no.of rows calculated as - \n",
    "# total no. of rows - last record of df_nan - 1 (as 1 row is for movie number and not the actual rating).\n",
    "\n",
    "last_record = np.full((1,len(dataset) - df_nan.iloc[-1,0] -1), movie_id)\n",
    "movie_np = np.append(movie_np, last_record)\n",
    "\n",
    "print(f'Movie numpy: {movie_np}')\n",
    "print(f'Length: {len(movie_np)}')"
   ]
  },
  {
   "cell_type": "code",
   "execution_count": 17,
   "id": "b9a73d0b",
   "metadata": {},
   "outputs": [
    {
     "data": {
      "text/html": [
       "<div>\n",
       "<style scoped>\n",
       "    .dataframe tbody tr th:only-of-type {\n",
       "        vertical-align: middle;\n",
       "    }\n",
       "\n",
       "    .dataframe tbody tr th {\n",
       "        vertical-align: top;\n",
       "    }\n",
       "\n",
       "    .dataframe thead th {\n",
       "        text-align: right;\n",
       "    }\n",
       "</style>\n",
       "<table border=\"1\" class=\"dataframe\">\n",
       "  <thead>\n",
       "    <tr style=\"text-align: right;\">\n",
       "      <th></th>\n",
       "      <th>Cust_id</th>\n",
       "      <th>Rating</th>\n",
       "      <th>Movie_id</th>\n",
       "    </tr>\n",
       "  </thead>\n",
       "  <tbody>\n",
       "    <tr>\n",
       "      <th>1</th>\n",
       "      <td>1488844</td>\n",
       "      <td>3.0</td>\n",
       "      <td>1</td>\n",
       "    </tr>\n",
       "    <tr>\n",
       "      <th>2</th>\n",
       "      <td>822109</td>\n",
       "      <td>5.0</td>\n",
       "      <td>1</td>\n",
       "    </tr>\n",
       "    <tr>\n",
       "      <th>3</th>\n",
       "      <td>885013</td>\n",
       "      <td>4.0</td>\n",
       "      <td>1</td>\n",
       "    </tr>\n",
       "    <tr>\n",
       "      <th>4</th>\n",
       "      <td>30878</td>\n",
       "      <td>4.0</td>\n",
       "      <td>1</td>\n",
       "    </tr>\n",
       "    <tr>\n",
       "      <th>5</th>\n",
       "      <td>823519</td>\n",
       "      <td>3.0</td>\n",
       "      <td>1</td>\n",
       "    </tr>\n",
       "  </tbody>\n",
       "</table>\n",
       "</div>"
      ],
      "text/plain": [
       "   Cust_id  Rating  Movie_id\n",
       "1  1488844     3.0         1\n",
       "2   822109     5.0         1\n",
       "3   885013     4.0         1\n",
       "4    30878     4.0         1\n",
       "5   823519     3.0         1"
      ]
     },
     "execution_count": 17,
     "metadata": {},
     "output_type": "execute_result"
    }
   ],
   "source": [
    "# Now drop the Nan rows because we already have movie ids in movie_np\n",
    "\n",
    "dataset = dataset[pd.notnull(dataset['Rating'])]\n",
    "\n",
    "# Add a new column to dataset for movie_id as int.\n",
    "dataset['Movie_id'] = movie_np.astype(int)\n",
    "\n",
    "# Convert Cust_id from object to int.\n",
    "dataset['Cust_id'] = dataset['Cust_id'].astype(int)\n",
    "\n",
    "dataset.head()"
   ]
  },
  {
   "cell_type": "code",
   "execution_count": 18,
   "id": "25e62416",
   "metadata": {},
   "outputs": [
    {
     "data": {
      "text/plain": [
       "(24053764, 3)"
      ]
     },
     "execution_count": 18,
     "metadata": {},
     "output_type": "execute_result"
    }
   ],
   "source": [
    "dataset.shape"
   ]
  },
  {
   "cell_type": "code",
   "execution_count": 19,
   "id": "ccb37d0e",
   "metadata": {},
   "outputs": [
    {
     "name": "stdout",
     "output_type": "stream",
     "text": [
      "Movie minimum times of review: 1799.0\n"
     ]
    }
   ],
   "source": [
    "f = ['count', 'mean']\n",
    "\n",
    "dataset_movie_summary = dataset.groupby('Movie_id')['Rating'].agg(f)\n",
    "\n",
    "dataset_movie_summary.index = dataset_movie_summary.index.map(int)\n",
    "\n",
    "# 0.7 quantile means 70% of the data is below this value.\n",
    "# 0.7 quantile of count od ratings is 1799.\n",
    "# that means, we are going to consider only those movies which have been rated by atleast 1799 users.\n",
    "\n",
    "movie_benchmark = round(dataset_movie_summary['count'].quantile(0.7),0)\n",
    "\n",
    "# Store the indexes of movies reviewed less than 1799 times, so that we can remove those movies from the dataset later.\n",
    "drop_movie_list = dataset_movie_summary[dataset_movie_summary['count'] < movie_benchmark].index\n",
    "\n",
    "print(f'Movie minimum times of review: {movie_benchmark}')"
   ]
  },
  {
   "cell_type": "code",
   "execution_count": 20,
   "id": "27c9835c",
   "metadata": {},
   "outputs": [
    {
     "name": "stdout",
     "output_type": "stream",
     "text": [
      "Customer minimum times of review: 52.0\n"
     ]
    }
   ],
   "source": [
    "# To remove inactive users from dataset\n",
    "\n",
    "dataset_cust_summary = dataset.groupby('Cust_id')['Rating'].agg(f)\n",
    "\n",
    "dataset_cust_summary.index = dataset_cust_summary.index.map(int)\n",
    "\n",
    "# 0.7 quantile for customer's rating is 52. \n",
    "# So, here we are going to consider only those customers who have reviewed more than 52 movies.\n",
    "\n",
    "cust_benchmark = round(dataset_cust_summary['count'].quantile(0.7),0)\n",
    "\n",
    "drop_cust_list = dataset_cust_summary[dataset_cust_summary['count'] < cust_benchmark].index\n",
    "\n",
    "print(f'Customer minimum times of review: {cust_benchmark}')"
   ]
  },
  {
   "cell_type": "code",
   "execution_count": 21,
   "id": "bc242ee5",
   "metadata": {},
   "outputs": [
    {
     "name": "stdout",
     "output_type": "stream",
     "text": [
      "Original Shape: (24053764, 3)\n"
     ]
    }
   ],
   "source": [
    "print(f'Original Shape: {dataset.shape}')"
   ]
  },
  {
   "cell_type": "code",
   "execution_count": 22,
   "id": "b87f57e7",
   "metadata": {},
   "outputs": [
    {
     "name": "stdout",
     "output_type": "stream",
     "text": [
      "After Trim Shape: (17337458, 3)\n"
     ]
    }
   ],
   "source": [
    "# Remove movies and customers in 0.7 quantile.\n",
    "# This will make our dataset smaller and recommendation model stronger.\n",
    "\n",
    "# ~ sign means exclude these records.\n",
    "dataset = dataset[~dataset['Movie_id'].isin(drop_movie_list)]\n",
    "dataset = dataset[~dataset['Cust_id'].isin(drop_cust_list)]\n",
    "\n",
    "print(f'After Trim Shape: {dataset.shape}')"
   ]
  },
  {
   "cell_type": "code",
   "execution_count": 23,
   "id": "11ede742",
   "metadata": {},
   "outputs": [
    {
     "data": {
      "text/html": [
       "<div>\n",
       "<style scoped>\n",
       "    .dataframe tbody tr th:only-of-type {\n",
       "        vertical-align: middle;\n",
       "    }\n",
       "\n",
       "    .dataframe tbody tr th {\n",
       "        vertical-align: top;\n",
       "    }\n",
       "\n",
       "    .dataframe thead th {\n",
       "        text-align: right;\n",
       "    }\n",
       "</style>\n",
       "<table border=\"1\" class=\"dataframe\">\n",
       "  <thead>\n",
       "    <tr style=\"text-align: right;\">\n",
       "      <th></th>\n",
       "      <th>Cust_id</th>\n",
       "      <th>Rating</th>\n",
       "      <th>Movie_id</th>\n",
       "    </tr>\n",
       "  </thead>\n",
       "  <tbody>\n",
       "    <tr>\n",
       "      <th>696</th>\n",
       "      <td>712664</td>\n",
       "      <td>5.0</td>\n",
       "      <td>3</td>\n",
       "    </tr>\n",
       "    <tr>\n",
       "      <th>697</th>\n",
       "      <td>1331154</td>\n",
       "      <td>4.0</td>\n",
       "      <td>3</td>\n",
       "    </tr>\n",
       "    <tr>\n",
       "      <th>698</th>\n",
       "      <td>2632461</td>\n",
       "      <td>3.0</td>\n",
       "      <td>3</td>\n",
       "    </tr>\n",
       "    <tr>\n",
       "      <th>699</th>\n",
       "      <td>44937</td>\n",
       "      <td>5.0</td>\n",
       "      <td>3</td>\n",
       "    </tr>\n",
       "    <tr>\n",
       "      <th>700</th>\n",
       "      <td>656399</td>\n",
       "      <td>4.0</td>\n",
       "      <td>3</td>\n",
       "    </tr>\n",
       "  </tbody>\n",
       "</table>\n",
       "</div>"
      ],
      "text/plain": [
       "     Cust_id  Rating  Movie_id\n",
       "696   712664     5.0         3\n",
       "697  1331154     4.0         3\n",
       "698  2632461     3.0         3\n",
       "699    44937     5.0         3\n",
       "700   656399     4.0         3"
      ]
     },
     "execution_count": 23,
     "metadata": {},
     "output_type": "execute_result"
    }
   ],
   "source": [
    "dataset.head()"
   ]
  },
  {
   "cell_type": "code",
   "execution_count": 24,
   "id": "8b7d9bd1",
   "metadata": {},
   "outputs": [
    {
     "name": "stdout",
     "output_type": "stream",
     "text": [
      "(143458, 1350)\n"
     ]
    }
   ],
   "source": [
    "# We are going to use SVD (Singular Value Decomposition) algo for the recommendation system.\n",
    "# This algo takes sparse matrix as an input.\n",
    "# We are going to create a sparse matrix using pivot_table method of pandas.\n",
    "# Here, Cust_ids will be the rows, Movie_ids will be the columns and Ratings will be the values.\n",
    "# As not every customer has reviewed every movie, many values will be NaNs. So, the matrix will be sparse.\n",
    "\n",
    "df_p =pd.pivot_table(dataset, values = \"Rating\", index = 'Cust_id', columns = 'Movie_id')\n",
    "\n",
    "print(df_p.shape)"
   ]
  },
  {
   "cell_type": "code",
   "execution_count": 25,
   "id": "b8baa78c",
   "metadata": {},
   "outputs": [
    {
     "data": {
      "text/html": [
       "<div>\n",
       "<style scoped>\n",
       "    .dataframe tbody tr th:only-of-type {\n",
       "        vertical-align: middle;\n",
       "    }\n",
       "\n",
       "    .dataframe tbody tr th {\n",
       "        vertical-align: top;\n",
       "    }\n",
       "\n",
       "    .dataframe thead th {\n",
       "        text-align: right;\n",
       "    }\n",
       "</style>\n",
       "<table border=\"1\" class=\"dataframe\">\n",
       "  <thead>\n",
       "    <tr style=\"text-align: right;\">\n",
       "      <th>Movie_id</th>\n",
       "      <th>3</th>\n",
       "      <th>8</th>\n",
       "      <th>16</th>\n",
       "      <th>17</th>\n",
       "      <th>18</th>\n",
       "      <th>26</th>\n",
       "      <th>28</th>\n",
       "      <th>30</th>\n",
       "      <th>32</th>\n",
       "      <th>33</th>\n",
       "      <th>...</th>\n",
       "      <th>4472</th>\n",
       "      <th>4474</th>\n",
       "      <th>4478</th>\n",
       "      <th>4479</th>\n",
       "      <th>4485</th>\n",
       "      <th>4488</th>\n",
       "      <th>4490</th>\n",
       "      <th>4492</th>\n",
       "      <th>4493</th>\n",
       "      <th>4496</th>\n",
       "    </tr>\n",
       "    <tr>\n",
       "      <th>Cust_id</th>\n",
       "      <th></th>\n",
       "      <th></th>\n",
       "      <th></th>\n",
       "      <th></th>\n",
       "      <th></th>\n",
       "      <th></th>\n",
       "      <th></th>\n",
       "      <th></th>\n",
       "      <th></th>\n",
       "      <th></th>\n",
       "      <th></th>\n",
       "      <th></th>\n",
       "      <th></th>\n",
       "      <th></th>\n",
       "      <th></th>\n",
       "      <th></th>\n",
       "      <th></th>\n",
       "      <th></th>\n",
       "      <th></th>\n",
       "      <th></th>\n",
       "      <th></th>\n",
       "    </tr>\n",
       "  </thead>\n",
       "  <tbody>\n",
       "    <tr>\n",
       "      <th>6</th>\n",
       "      <td>NaN</td>\n",
       "      <td>NaN</td>\n",
       "      <td>NaN</td>\n",
       "      <td>NaN</td>\n",
       "      <td>NaN</td>\n",
       "      <td>NaN</td>\n",
       "      <td>NaN</td>\n",
       "      <td>3.0</td>\n",
       "      <td>NaN</td>\n",
       "      <td>NaN</td>\n",
       "      <td>...</td>\n",
       "      <td>3.0</td>\n",
       "      <td>NaN</td>\n",
       "      <td>NaN</td>\n",
       "      <td>NaN</td>\n",
       "      <td>NaN</td>\n",
       "      <td>NaN</td>\n",
       "      <td>NaN</td>\n",
       "      <td>NaN</td>\n",
       "      <td>NaN</td>\n",
       "      <td>NaN</td>\n",
       "    </tr>\n",
       "    <tr>\n",
       "      <th>7</th>\n",
       "      <td>NaN</td>\n",
       "      <td>5.0</td>\n",
       "      <td>NaN</td>\n",
       "      <td>NaN</td>\n",
       "      <td>NaN</td>\n",
       "      <td>NaN</td>\n",
       "      <td>4.0</td>\n",
       "      <td>5.0</td>\n",
       "      <td>NaN</td>\n",
       "      <td>NaN</td>\n",
       "      <td>...</td>\n",
       "      <td>3.0</td>\n",
       "      <td>NaN</td>\n",
       "      <td>NaN</td>\n",
       "      <td>5.0</td>\n",
       "      <td>NaN</td>\n",
       "      <td>NaN</td>\n",
       "      <td>NaN</td>\n",
       "      <td>NaN</td>\n",
       "      <td>NaN</td>\n",
       "      <td>NaN</td>\n",
       "    </tr>\n",
       "    <tr>\n",
       "      <th>79</th>\n",
       "      <td>NaN</td>\n",
       "      <td>NaN</td>\n",
       "      <td>NaN</td>\n",
       "      <td>NaN</td>\n",
       "      <td>NaN</td>\n",
       "      <td>NaN</td>\n",
       "      <td>NaN</td>\n",
       "      <td>3.0</td>\n",
       "      <td>NaN</td>\n",
       "      <td>NaN</td>\n",
       "      <td>...</td>\n",
       "      <td>4.0</td>\n",
       "      <td>NaN</td>\n",
       "      <td>NaN</td>\n",
       "      <td>NaN</td>\n",
       "      <td>NaN</td>\n",
       "      <td>NaN</td>\n",
       "      <td>4.0</td>\n",
       "      <td>NaN</td>\n",
       "      <td>NaN</td>\n",
       "      <td>NaN</td>\n",
       "    </tr>\n",
       "    <tr>\n",
       "      <th>97</th>\n",
       "      <td>NaN</td>\n",
       "      <td>NaN</td>\n",
       "      <td>NaN</td>\n",
       "      <td>NaN</td>\n",
       "      <td>NaN</td>\n",
       "      <td>NaN</td>\n",
       "      <td>NaN</td>\n",
       "      <td>NaN</td>\n",
       "      <td>NaN</td>\n",
       "      <td>NaN</td>\n",
       "      <td>...</td>\n",
       "      <td>NaN</td>\n",
       "      <td>NaN</td>\n",
       "      <td>NaN</td>\n",
       "      <td>NaN</td>\n",
       "      <td>NaN</td>\n",
       "      <td>NaN</td>\n",
       "      <td>NaN</td>\n",
       "      <td>NaN</td>\n",
       "      <td>NaN</td>\n",
       "      <td>NaN</td>\n",
       "    </tr>\n",
       "    <tr>\n",
       "      <th>134</th>\n",
       "      <td>NaN</td>\n",
       "      <td>NaN</td>\n",
       "      <td>NaN</td>\n",
       "      <td>NaN</td>\n",
       "      <td>NaN</td>\n",
       "      <td>NaN</td>\n",
       "      <td>5.0</td>\n",
       "      <td>NaN</td>\n",
       "      <td>NaN</td>\n",
       "      <td>NaN</td>\n",
       "      <td>...</td>\n",
       "      <td>NaN</td>\n",
       "      <td>NaN</td>\n",
       "      <td>NaN</td>\n",
       "      <td>NaN</td>\n",
       "      <td>NaN</td>\n",
       "      <td>NaN</td>\n",
       "      <td>NaN</td>\n",
       "      <td>NaN</td>\n",
       "      <td>NaN</td>\n",
       "      <td>NaN</td>\n",
       "    </tr>\n",
       "  </tbody>\n",
       "</table>\n",
       "<p>5 rows × 1350 columns</p>\n",
       "</div>"
      ],
      "text/plain": [
       "Movie_id  3     8     16    17    18    26    28    30    32    33    ...  \\\n",
       "Cust_id                                                               ...   \n",
       "6          NaN   NaN   NaN   NaN   NaN   NaN   NaN   3.0   NaN   NaN  ...   \n",
       "7          NaN   5.0   NaN   NaN   NaN   NaN   4.0   5.0   NaN   NaN  ...   \n",
       "79         NaN   NaN   NaN   NaN   NaN   NaN   NaN   3.0   NaN   NaN  ...   \n",
       "97         NaN   NaN   NaN   NaN   NaN   NaN   NaN   NaN   NaN   NaN  ...   \n",
       "134        NaN   NaN   NaN   NaN   NaN   NaN   5.0   NaN   NaN   NaN  ...   \n",
       "\n",
       "Movie_id  4472  4474  4478  4479  4485  4488  4490  4492  4493  4496  \n",
       "Cust_id                                                               \n",
       "6          3.0   NaN   NaN   NaN   NaN   NaN   NaN   NaN   NaN   NaN  \n",
       "7          3.0   NaN   NaN   5.0   NaN   NaN   NaN   NaN   NaN   NaN  \n",
       "79         4.0   NaN   NaN   NaN   NaN   NaN   4.0   NaN   NaN   NaN  \n",
       "97         NaN   NaN   NaN   NaN   NaN   NaN   NaN   NaN   NaN   NaN  \n",
       "134        NaN   NaN   NaN   NaN   NaN   NaN   NaN   NaN   NaN   NaN  \n",
       "\n",
       "[5 rows x 1350 columns]"
      ]
     },
     "execution_count": 25,
     "metadata": {},
     "output_type": "execute_result"
    }
   ],
   "source": [
    "df_p.head()"
   ]
  },
  {
   "cell_type": "code",
   "execution_count": 26,
   "id": "f1d1f4d8",
   "metadata": {},
   "outputs": [
    {
     "name": "stderr",
     "output_type": "stream",
     "text": [
      "C:\\Users\\piyus\\AppData\\Local\\Temp\\ipykernel_17968\\2810715885.py:1: FutureWarning: The error_bad_lines argument has been deprecated and will be removed in a future version. Use on_bad_lines in the future.\n",
      "\n",
      "\n",
      "  df_title = pd.read_csv('movie_titles.csv',error_bad_lines=False, encoding = \"ISO-8859-1\", header = None, names = ['Movie_id','Year','Name'])\n"
     ]
    },
    {
     "name": "stdout",
     "output_type": "stream",
     "text": [
      "            Year                          Name\n",
      "Movie_id                                      \n",
      "1         2003.0               Dinosaur Planet\n",
      "2         2004.0    Isle of Man TT 2004 Review\n",
      "3         1997.0                     Character\n",
      "4         1994.0  Paula Abdul's Get Up & Dance\n",
      "5         2004.0      The Rise and Fall of ECW\n",
      "6         1997.0                          Sick\n",
      "7         1992.0                         8 Man\n",
      "8         2004.0    What the #$*! Do We Know!?\n",
      "9         1991.0      Class of Nuke 'Em High 2\n",
      "10        2001.0                       Fighter\n"
     ]
    },
    {
     "name": "stderr",
     "output_type": "stream",
     "text": [
      "b'Skipping line 72: expected 3 fields, saw 4\\nSkipping line 264: expected 3 fields, saw 5\\nSkipping line 350: expected 3 fields, saw 4\\nSkipping line 366: expected 3 fields, saw 4\\nSkipping line 394: expected 3 fields, saw 4\\nSkipping line 466: expected 3 fields, saw 4\\nSkipping line 582: expected 3 fields, saw 4\\nSkipping line 600: expected 3 fields, saw 4\\nSkipping line 670: expected 3 fields, saw 4\\nSkipping line 672: expected 3 fields, saw 4\\nSkipping line 729: expected 3 fields, saw 4\\nSkipping line 776: expected 3 fields, saw 4\\nSkipping line 827: expected 3 fields, saw 4\\nSkipping line 834: expected 3 fields, saw 4\\nSkipping line 891: expected 3 fields, saw 4\\nSkipping line 913: expected 3 fields, saw 4\\nSkipping line 944: expected 3 fields, saw 4\\nSkipping line 973: expected 3 fields, saw 4\\nSkipping line 1010: expected 3 fields, saw 4\\nSkipping line 1015: expected 3 fields, saw 4\\nSkipping line 1058: expected 3 fields, saw 4\\nSkipping line 1095: expected 3 fields, saw 4\\nSkipping line 1170: expected 3 fields, saw 4\\nSkipping line 1210: expected 3 fields, saw 4\\nSkipping line 1286: expected 3 fields, saw 4\\nSkipping line 1520: expected 3 fields, saw 4\\nSkipping line 1559: expected 3 fields, saw 4\\nSkipping line 1629: expected 3 fields, saw 4\\nSkipping line 1647: expected 3 fields, saw 4\\nSkipping line 1654: expected 3 fields, saw 4\\nSkipping line 1658: expected 3 fields, saw 4\\nSkipping line 1674: expected 3 fields, saw 4\\nSkipping line 1745: expected 3 fields, saw 4\\nSkipping line 1752: expected 3 fields, saw 4\\nSkipping line 2107: expected 3 fields, saw 4\\nSkipping line 2176: expected 3 fields, saw 4\\nSkipping line 2178: expected 3 fields, saw 4\\nSkipping line 2361: expected 3 fields, saw 5\\nSkipping line 2410: expected 3 fields, saw 4\\nSkipping line 2428: expected 3 fields, saw 4\\nSkipping line 2433: expected 3 fields, saw 4\\nSkipping line 2462: expected 3 fields, saw 4\\nSkipping line 2598: expected 3 fields, saw 4\\nSkipping line 2625: expected 3 fields, saw 4\\nSkipping line 2628: expected 3 fields, saw 4\\nSkipping line 2691: expected 3 fields, saw 4\\nSkipping line 2722: expected 3 fields, saw 4\\nSkipping line 2772: expected 3 fields, saw 4\\nSkipping line 2796: expected 3 fields, saw 4\\nSkipping line 2830: expected 3 fields, saw 4\\nSkipping line 2854: expected 3 fields, saw 4\\nSkipping line 2878: expected 3 fields, saw 4\\nSkipping line 2889: expected 3 fields, saw 4\\nSkipping line 2947: expected 3 fields, saw 4\\nSkipping line 3023: expected 3 fields, saw 4\\nSkipping line 3083: expected 3 fields, saw 4\\nSkipping line 3140: expected 3 fields, saw 4\\nSkipping line 3163: expected 3 fields, saw 4\\nSkipping line 3227: expected 3 fields, saw 4\\nSkipping line 3238: expected 3 fields, saw 4\\nSkipping line 3290: expected 3 fields, saw 4\\nSkipping line 3428: expected 3 fields, saw 4\\nSkipping line 3429: expected 3 fields, saw 4\\nSkipping line 3440: expected 3 fields, saw 4\\nSkipping line 3509: expected 3 fields, saw 4\\nSkipping line 3561: expected 3 fields, saw 4\\nSkipping line 3569: expected 3 fields, saw 4\\nSkipping line 3591: expected 3 fields, saw 4\\nSkipping line 3595: expected 3 fields, saw 4\\nSkipping line 3634: expected 3 fields, saw 4\\nSkipping line 3880: expected 3 fields, saw 4\\nSkipping line 3933: expected 3 fields, saw 5\\nSkipping line 4005: expected 3 fields, saw 4\\nSkipping line 4029: expected 3 fields, saw 4\\nSkipping line 4059: expected 3 fields, saw 4\\nSkipping line 4105: expected 3 fields, saw 4\\nSkipping line 4125: expected 3 fields, saw 4\\nSkipping line 4153: expected 3 fields, saw 4\\nSkipping line 4168: expected 3 fields, saw 4\\nSkipping line 4268: expected 3 fields, saw 5\\nSkipping line 4325: expected 3 fields, saw 4\\nSkipping line 4335: expected 3 fields, saw 4\\nSkipping line 4433: expected 3 fields, saw 4\\nSkipping line 4436: expected 3 fields, saw 4\\nSkipping line 4444: expected 3 fields, saw 5\\nSkipping line 4518: expected 3 fields, saw 4\\nSkipping line 4550: expected 3 fields, saw 4\\nSkipping line 4608: expected 3 fields, saw 4\\nSkipping line 4651: expected 3 fields, saw 4\\nSkipping line 4933: expected 3 fields, saw 4\\nSkipping line 4982: expected 3 fields, saw 4\\nSkipping line 4993: expected 3 fields, saw 4\\nSkipping line 5087: expected 3 fields, saw 4\\nSkipping line 5223: expected 3 fields, saw 4\\nSkipping line 5334: expected 3 fields, saw 4\\nSkipping line 5404: expected 3 fields, saw 5\\nSkipping line 5485: expected 3 fields, saw 4\\nSkipping line 5496: expected 3 fields, saw 4\\nSkipping line 5544: expected 3 fields, saw 4\\nSkipping line 5553: expected 3 fields, saw 4\\nSkipping line 5555: expected 3 fields, saw 4\\nSkipping line 5624: expected 3 fields, saw 4\\nSkipping line 5692: expected 3 fields, saw 4\\nSkipping line 5714: expected 3 fields, saw 4\\nSkipping line 5778: expected 3 fields, saw 4\\nSkipping line 5912: expected 3 fields, saw 4\\nSkipping line 5917: expected 3 fields, saw 6\\nSkipping line 5966: expected 3 fields, saw 4\\nSkipping line 5976: expected 3 fields, saw 5\\nSkipping line 6110: expected 3 fields, saw 6\\nSkipping line 6111: expected 3 fields, saw 4\\nSkipping line 6281: expected 3 fields, saw 4\\nSkipping line 6374: expected 3 fields, saw 4\\nSkipping line 6392: expected 3 fields, saw 4\\nSkipping line 6408: expected 3 fields, saw 4\\nSkipping line 6472: expected 3 fields, saw 4\\nSkipping line 6515: expected 3 fields, saw 4\\nSkipping line 6525: expected 3 fields, saw 4\\nSkipping line 6580: expected 3 fields, saw 4\\nSkipping line 6696: expected 3 fields, saw 4\\nSkipping line 6772: expected 3 fields, saw 4\\nSkipping line 6777: expected 3 fields, saw 6\\nSkipping line 6924: expected 3 fields, saw 4\\nSkipping line 7096: expected 3 fields, saw 4\\nSkipping line 7116: expected 3 fields, saw 4\\nSkipping line 7213: expected 3 fields, saw 4\\nSkipping line 7378: expected 3 fields, saw 4\\nSkipping line 7474: expected 3 fields, saw 4\\nSkipping line 7530: expected 3 fields, saw 4\\nSkipping line 7653: expected 3 fields, saw 5\\nSkipping line 7767: expected 3 fields, saw 4\\nSkipping line 7834: expected 3 fields, saw 4\\nSkipping line 8006: expected 3 fields, saw 4\\nSkipping line 8048: expected 3 fields, saw 4\\nSkipping line 8094: expected 3 fields, saw 4\\nSkipping line 8108: expected 3 fields, saw 4\\nSkipping line 8114: expected 3 fields, saw 6\\nSkipping line 8188: expected 3 fields, saw 4\\nSkipping line 8294: expected 3 fields, saw 4\\nSkipping line 8338: expected 3 fields, saw 5\\nSkipping line 8410: expected 3 fields, saw 4\\nSkipping line 8478: expected 3 fields, saw 4\\nSkipping line 8511: expected 3 fields, saw 4\\nSkipping line 8557: expected 3 fields, saw 4\\nSkipping line 8588: expected 3 fields, saw 5\\nSkipping line 8655: expected 3 fields, saw 5\\nSkipping line 8683: expected 3 fields, saw 4\\nSkipping line 8688: expected 3 fields, saw 4\\nSkipping line 8690: expected 3 fields, saw 4\\nSkipping line 8733: expected 3 fields, saw 4\\nSkipping line 8806: expected 3 fields, saw 4\\nSkipping line 8812: expected 3 fields, saw 4\\nSkipping line 8824: expected 3 fields, saw 4\\nSkipping line 8858: expected 3 fields, saw 4\\nSkipping line 8871: expected 3 fields, saw 4\\nSkipping line 8873: expected 3 fields, saw 4\\nSkipping line 8889: expected 3 fields, saw 4\\nSkipping line 8899: expected 3 fields, saw 5\\nSkipping line 8908: expected 3 fields, saw 4\\nSkipping line 8909: expected 3 fields, saw 4\\nSkipping line 8911: expected 3 fields, saw 4\\nSkipping line 8965: expected 3 fields, saw 4\\nSkipping line 9075: expected 3 fields, saw 5\\nSkipping line 9106: expected 3 fields, saw 4\\nSkipping line 9367: expected 3 fields, saw 4\\nSkipping line 9398: expected 3 fields, saw 4\\nSkipping line 9403: expected 3 fields, saw 4\\nSkipping line 9460: expected 3 fields, saw 4\\nSkipping line 9489: expected 3 fields, saw 4\\nSkipping line 9500: expected 3 fields, saw 4\\nSkipping line 9582: expected 3 fields, saw 4\\nSkipping line 9595: expected 3 fields, saw 5\\nSkipping line 9604: expected 3 fields, saw 5\\nSkipping line 9695: expected 3 fields, saw 4\\nSkipping line 9713: expected 3 fields, saw 4\\nSkipping line 9739: expected 3 fields, saw 4\\nSkipping line 9760: expected 3 fields, saw 4\\nSkipping line 9868: expected 3 fields, saw 5\\nSkipping line 9976: expected 3 fields, saw 4\\nSkipping line 10044: expected 3 fields, saw 4\\nSkipping line 10087: expected 3 fields, saw 4\\nSkipping line 10097: expected 3 fields, saw 4\\nSkipping line 10223: expected 3 fields, saw 4\\nSkipping line 10321: expected 3 fields, saw 4\\nSkipping line 10369: expected 3 fields, saw 4\\nSkipping line 10557: expected 3 fields, saw 4\\nSkipping line 10564: expected 3 fields, saw 5\\nSkipping line 10619: expected 3 fields, saw 4\\nSkipping line 10649: expected 3 fields, saw 4\\nSkipping line 10676: expected 3 fields, saw 4\\nSkipping line 10690: expected 3 fields, saw 4\\nSkipping line 10795: expected 3 fields, saw 4\\nSkipping line 10839: expected 3 fields, saw 5\\nSkipping line 10860: expected 3 fields, saw 6\\nSkipping line 10887: expected 3 fields, saw 4\\nSkipping line 10941: expected 3 fields, saw 4\\nSkipping line 10948: expected 3 fields, saw 4\\nSkipping line 10950: expected 3 fields, saw 4\\nSkipping line 10967: expected 3 fields, saw 4\\nSkipping line 11083: expected 3 fields, saw 4\\nSkipping line 11089: expected 3 fields, saw 4\\nSkipping line 11114: expected 3 fields, saw 4\\nSkipping line 11116: expected 3 fields, saw 4\\nSkipping line 11176: expected 3 fields, saw 4\\nSkipping line 11206: expected 3 fields, saw 4\\nSkipping line 11298: expected 3 fields, saw 4\\nSkipping line 11333: expected 3 fields, saw 4\\nSkipping line 11353: expected 3 fields, saw 4\\nSkipping line 11362: expected 3 fields, saw 4\\nSkipping line 11405: expected 3 fields, saw 4\\nSkipping line 11583: expected 3 fields, saw 4\\nSkipping line 11646: expected 3 fields, saw 4\\nSkipping line 11688: expected 3 fields, saw 4\\nSkipping line 11714: expected 3 fields, saw 4\\nSkipping line 11883: expected 3 fields, saw 4\\nSkipping line 11917: expected 3 fields, saw 4\\nSkipping line 11983: expected 3 fields, saw 5\\nSkipping line 11996: expected 3 fields, saw 4\\nSkipping line 12031: expected 3 fields, saw 4\\nSkipping line 12209: expected 3 fields, saw 4\\nSkipping line 12218: expected 3 fields, saw 4\\nSkipping line 12353: expected 3 fields, saw 6\\nSkipping line 12413: expected 3 fields, saw 4\\nSkipping line 12423: expected 3 fields, saw 4\\nSkipping line 12510: expected 3 fields, saw 4\\nSkipping line 12531: expected 3 fields, saw 4\\nSkipping line 12586: expected 3 fields, saw 4\\nSkipping line 12619: expected 3 fields, saw 4\\nSkipping line 12691: expected 3 fields, saw 4\\nSkipping line 12692: expected 3 fields, saw 4\\nSkipping line 12693: expected 3 fields, saw 4\\nSkipping line 12715: expected 3 fields, saw 6\\nSkipping line 12850: expected 3 fields, saw 4\\nSkipping line 12880: expected 3 fields, saw 4\\nSkipping line 12884: expected 3 fields, saw 4\\nSkipping line 12916: expected 3 fields, saw 4\\nSkipping line 12976: expected 3 fields, saw 4\\nSkipping line 13024: expected 3 fields, saw 5\\nSkipping line 13104: expected 3 fields, saw 4\\nSkipping line 13151: expected 3 fields, saw 4\\nSkipping line 13173: expected 3 fields, saw 4\\nSkipping line 13202: expected 3 fields, saw 4\\nSkipping line 13209: expected 3 fields, saw 4\\nSkipping line 13231: expected 3 fields, saw 4\\nSkipping line 13263: expected 3 fields, saw 4\\nSkipping line 13314: expected 3 fields, saw 4\\nSkipping line 13345: expected 3 fields, saw 4\\nSkipping line 13364: expected 3 fields, saw 4\\nSkipping line 13428: expected 3 fields, saw 4\\nSkipping line 13482: expected 3 fields, saw 5\\nSkipping line 13504: expected 3 fields, saw 4\\nSkipping line 13554: expected 3 fields, saw 4\\nSkipping line 13572: expected 3 fields, saw 4\\nSkipping line 13693: expected 3 fields, saw 4\\nSkipping line 13781: expected 3 fields, saw 4\\nSkipping line 13802: expected 3 fields, saw 4\\nSkipping line 13940: expected 3 fields, saw 4\\nSkipping line 13977: expected 3 fields, saw 4\\nSkipping line 13988: expected 3 fields, saw 4\\nSkipping line 13997: expected 3 fields, saw 4\\nSkipping line 14040: expected 3 fields, saw 4\\nSkipping line 14172: expected 3 fields, saw 4\\nSkipping line 14249: expected 3 fields, saw 4\\nSkipping line 14264: expected 3 fields, saw 6\\nSkipping line 14290: expected 3 fields, saw 4\\nSkipping line 14327: expected 3 fields, saw 4\\nSkipping line 14418: expected 3 fields, saw 4\\nSkipping line 14464: expected 3 fields, saw 4\\nSkipping line 14493: expected 3 fields, saw 4\\nSkipping line 14508: expected 3 fields, saw 4\\nSkipping line 14584: expected 3 fields, saw 4\\nSkipping line 14612: expected 3 fields, saw 5\\nSkipping line 14746: expected 3 fields, saw 4\\nSkipping line 14809: expected 3 fields, saw 4\\nSkipping line 14965: expected 3 fields, saw 4\\nSkipping line 14981: expected 3 fields, saw 4\\nSkipping line 15023: expected 3 fields, saw 5\\nSkipping line 15119: expected 3 fields, saw 4\\nSkipping line 15122: expected 3 fields, saw 4\\nSkipping line 15174: expected 3 fields, saw 4\\nSkipping line 15193: expected 3 fields, saw 4\\nSkipping line 15218: expected 3 fields, saw 4\\nSkipping line 15274: expected 3 fields, saw 4\\nSkipping line 15333: expected 3 fields, saw 4\\nSkipping line 15372: expected 3 fields, saw 4\\nSkipping line 15401: expected 3 fields, saw 4\\nSkipping line 15405: expected 3 fields, saw 4\\nSkipping line 15416: expected 3 fields, saw 4\\nSkipping line 15424: expected 3 fields, saw 5\\nSkipping line 15503: expected 3 fields, saw 4\\nSkipping line 15625: expected 3 fields, saw 4\\nSkipping line 15659: expected 3 fields, saw 4\\nSkipping line 15764: expected 3 fields, saw 4\\nSkipping line 15766: expected 3 fields, saw 4\\nSkipping line 15796: expected 3 fields, saw 5\\nSkipping line 15905: expected 3 fields, saw 4\\nSkipping line 15984: expected 3 fields, saw 4\\nSkipping line 15985: expected 3 fields, saw 4\\nSkipping line 16071: expected 3 fields, saw 4\\nSkipping line 16073: expected 3 fields, saw 4\\nSkipping line 16099: expected 3 fields, saw 4\\nSkipping line 16140: expected 3 fields, saw 6\\nSkipping line 16144: expected 3 fields, saw 4\\nSkipping line 16218: expected 3 fields, saw 4\\nSkipping line 16258: expected 3 fields, saw 4\\nSkipping line 16272: expected 3 fields, saw 4\\nSkipping line 16305: expected 3 fields, saw 4\\nSkipping line 16316: expected 3 fields, saw 4\\nSkipping line 16361: expected 3 fields, saw 4\\nSkipping line 16385: expected 3 fields, saw 4\\nSkipping line 16416: expected 3 fields, saw 4\\nSkipping line 16441: expected 3 fields, saw 4\\nSkipping line 16445: expected 3 fields, saw 4\\nSkipping line 16467: expected 3 fields, saw 4\\nSkipping line 16554: expected 3 fields, saw 4\\nSkipping line 16597: expected 3 fields, saw 4\\nSkipping line 16648: expected 3 fields, saw 4\\nSkipping line 16664: expected 3 fields, saw 4\\nSkipping line 16713: expected 3 fields, saw 4\\nSkipping line 16770: expected 3 fields, saw 4\\nSkipping line 16819: expected 3 fields, saw 4\\nSkipping line 16861: expected 3 fields, saw 4\\nSkipping line 16933: expected 3 fields, saw 4\\nSkipping line 17012: expected 3 fields, saw 4\\nSkipping line 17101: expected 3 fields, saw 4\\nSkipping line 17110: expected 3 fields, saw 4\\nSkipping line 17167: expected 3 fields, saw 4\\nSkipping line 17171: expected 3 fields, saw 4\\nSkipping line 17206: expected 3 fields, saw 4\\nSkipping line 17254: expected 3 fields, saw 4\\nSkipping line 17295: expected 3 fields, saw 4\\nSkipping line 17347: expected 3 fields, saw 4\\nSkipping line 17419: expected 3 fields, saw 4\\nSkipping line 17573: expected 3 fields, saw 4\\nSkipping line 17597: expected 3 fields, saw 4\\nSkipping line 17679: expected 3 fields, saw 4\\n'\n"
     ]
    }
   ],
   "source": [
    "df_title = pd.read_csv('movie_titles.csv',error_bad_lines=False, encoding = \"ISO-8859-1\", header = None, names = ['Movie_id','Year','Name'])\n",
    "\n",
    "df_title.set_index('Movie_id', inplace = True)\n",
    "\n",
    "print(df_title.head(10))"
   ]
  },
  {
   "cell_type": "code",
   "execution_count": 27,
   "id": "8df9410f",
   "metadata": {},
   "outputs": [
    {
     "data": {
      "text/plain": [
       "(17434, 2)"
      ]
     },
     "execution_count": 27,
     "metadata": {},
     "output_type": "execute_result"
    }
   ],
   "source": [
    "df_title.shape"
   ]
  },
  {
   "cell_type": "code",
   "execution_count": 28,
   "id": "9e9426b1",
   "metadata": {},
   "outputs": [],
   "source": [
    "import math\n",
    "import re\n",
    "from scipy.sparse import csr_matrix\n",
    "import seaborn as sns\n",
    "\n",
    "from surprise import Reader, Dataset, SVD\n",
    "from surprise.model_selection import cross_validate"
   ]
  },
  {
   "cell_type": "code",
   "execution_count": 30,
   "id": "5ff9715f",
   "metadata": {},
   "outputs": [
    {
     "name": "stdout",
     "output_type": "stream",
     "text": [
      "Evaluating RMSE, MAE of algorithm SVD on 3 split(s).\n",
      "\n",
      "                  Fold 1  Fold 2  Fold 3  Mean    Std     \n",
      "RMSE (testset)    0.9901  1.0006  1.0026  0.9978  0.0055  \n",
      "MAE (testset)     0.8031  0.8127  0.7994  0.8051  0.0056  \n",
      "Fit time          3.82    3.70    3.73    3.75    0.05    \n",
      "Test time         0.28    0.18    0.19    0.22    0.04    \n"
     ]
    },
    {
     "data": {
      "text/plain": [
       "{'test_rmse': array([0.99009887, 1.00056838, 1.00264733]),\n",
       " 'test_mae': array([0.80314627, 0.81266518, 0.79938857]),\n",
       " 'fit_time': (3.8203375339508057, 3.697636365890503, 3.7265892028808594),\n",
       " 'test_time': (0.27687883377075195, 0.18388748168945312, 0.1948549747467041)}"
      ]
     },
     "execution_count": 30,
     "metadata": {},
     "output_type": "execute_result"
    }
   ],
   "source": [
    "reader = Reader()\n",
    "\n",
    "#Consider only top 100K rows for faster run time\n",
    "\n",
    "data = Dataset.load_from_df(dataset[['Cust_id','Movie_id','Rating']][:100000],reader)\n",
    "\n",
    "svd = SVD()\n",
    "\n",
    "cross_validate(svd,data, measures=['RMSE','MAE'], cv=3, verbose= True)\n"
   ]
  },
  {
   "cell_type": "code",
   "execution_count": 31,
   "id": "bf70aa68",
   "metadata": {},
   "outputs": [
    {
     "data": {
      "text/html": [
       "<div>\n",
       "<style scoped>\n",
       "    .dataframe tbody tr th:only-of-type {\n",
       "        vertical-align: middle;\n",
       "    }\n",
       "\n",
       "    .dataframe tbody tr th {\n",
       "        vertical-align: top;\n",
       "    }\n",
       "\n",
       "    .dataframe thead th {\n",
       "        text-align: right;\n",
       "    }\n",
       "</style>\n",
       "<table border=\"1\" class=\"dataframe\">\n",
       "  <thead>\n",
       "    <tr style=\"text-align: right;\">\n",
       "      <th></th>\n",
       "      <th>Cust_id</th>\n",
       "      <th>Rating</th>\n",
       "      <th>Movie_id</th>\n",
       "    </tr>\n",
       "  </thead>\n",
       "  <tbody>\n",
       "    <tr>\n",
       "      <th>696</th>\n",
       "      <td>712664</td>\n",
       "      <td>5.0</td>\n",
       "      <td>3</td>\n",
       "    </tr>\n",
       "    <tr>\n",
       "      <th>697</th>\n",
       "      <td>1331154</td>\n",
       "      <td>4.0</td>\n",
       "      <td>3</td>\n",
       "    </tr>\n",
       "    <tr>\n",
       "      <th>698</th>\n",
       "      <td>2632461</td>\n",
       "      <td>3.0</td>\n",
       "      <td>3</td>\n",
       "    </tr>\n",
       "    <tr>\n",
       "      <th>699</th>\n",
       "      <td>44937</td>\n",
       "      <td>5.0</td>\n",
       "      <td>3</td>\n",
       "    </tr>\n",
       "    <tr>\n",
       "      <th>700</th>\n",
       "      <td>656399</td>\n",
       "      <td>4.0</td>\n",
       "      <td>3</td>\n",
       "    </tr>\n",
       "  </tbody>\n",
       "</table>\n",
       "</div>"
      ],
      "text/plain": [
       "     Cust_id  Rating  Movie_id\n",
       "696   712664     5.0         3\n",
       "697  1331154     4.0         3\n",
       "698  2632461     3.0         3\n",
       "699    44937     5.0         3\n",
       "700   656399     4.0         3"
      ]
     },
     "execution_count": 31,
     "metadata": {},
     "output_type": "execute_result"
    }
   ],
   "source": [
    "dataset.head()"
   ]
  },
  {
   "cell_type": "code",
   "execution_count": 32,
   "id": "39b8595a",
   "metadata": {},
   "outputs": [
    {
     "data": {
      "text/plain": [
       "Movie_id\n",
       "3                              Character\n",
       "79                           The Killing\n",
       "175                       Reservoir Dogs\n",
       "199                      The Deer Hunter\n",
       "241                   North by Northwest\n",
       "256    Ghost Dog: The Way of the Samurai\n",
       "348        The Last Temptation of Christ\n",
       "357                House of Sand and Fog\n",
       "416                             Elephant\n",
       "442                  Mississippi Burning\n",
       "Name: Name, dtype: object"
      ]
     },
     "execution_count": 32,
     "metadata": {},
     "output_type": "execute_result"
    }
   ],
   "source": [
    "dataset_712664 = dataset[(dataset['Cust_id']==712664) & (dataset['Rating']==5)]\n",
    "dataset_712664 = dataset_712664.set_index('Movie_id')\n",
    "dataset_712664 = dataset_712664.join(df_title)['Name']\n",
    "dataset_712664.head(10)"
   ]
  },
  {
   "cell_type": "code",
   "execution_count": 33,
   "id": "6578858b",
   "metadata": {},
   "outputs": [
    {
     "name": "stdout",
     "output_type": "stream",
     "text": [
      "        Year                                      Name  Estimated_Score\n",
      "173   1992.0                            Reservoir Dogs         5.000000\n",
      "857   1954.0                             Seven Samurai         5.000000\n",
      "711   2003.0                        The Wire: Season 1         5.000000\n",
      "1252  1988.0                       Red Dwarf: Series 3         5.000000\n",
      "977   1961.0                                   Yojimbo         4.975829\n",
      "3979  1990.0  House of Cards Trilogy I: House of Cards         4.927827\n",
      "2389  1979.0                Alien: Collector's Edition         4.926896\n",
      "4270  2002.0            Curb Your Enthusiasm: Season 3         4.926205\n",
      "1011  1992.0                               Hard Boiled         4.913559\n",
      "570   1961.0                The Twilight Zone: Vol. 36         4.912624\n"
     ]
    }
   ],
   "source": [
    "user_712664 = df_title.copy()\n",
    "\n",
    "user_712664 = user_712664.reset_index()\n",
    "\n",
    "user_712664 = user_712664[~user_712664['Movie_id'].isin(drop_movie_list)]\n",
    "\n",
    "# Getting full dataset\n",
    "\n",
    "data = Dataset.load_from_df(dataset[['Cust_id','Movie_id','Rating']], reader)\n",
    "\n",
    "trainset = data.build_full_trainset()\n",
    "svd.fit(trainset)\n",
    "\n",
    "user_712664['Estimated_Score'] = user_712664['Movie_id'].apply(lambda x: svd.predict(712664,x).est)\n",
    "\n",
    "user_712664 = user_712664.drop('Movie_id', axis = 1)\n",
    "\n",
    "user_712664 = user_712664.sort_values('Estimated_Score', ascending = False)\n",
    "\n",
    "print(user_712664.head(10))"
   ]
  },
  {
   "cell_type": "code",
   "execution_count": null,
   "id": "aeffd094",
   "metadata": {},
   "outputs": [],
   "source": []
  }
 ],
 "metadata": {
  "kernelspec": {
   "display_name": "Python 3 (ipykernel)",
   "language": "python",
   "name": "python3"
  },
  "language_info": {
   "codemirror_mode": {
    "name": "ipython",
    "version": 3
   },
   "file_extension": ".py",
   "mimetype": "text/x-python",
   "name": "python",
   "nbconvert_exporter": "python",
   "pygments_lexer": "ipython3",
   "version": "3.9.12"
  }
 },
 "nbformat": 4,
 "nbformat_minor": 5
}
